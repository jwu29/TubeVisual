{
 "cells": [
  {
   "cell_type": "code",
   "execution_count": 227,
   "id": "6af401fb",
   "metadata": {},
   "outputs": [
    {
     "name": "stdout",
     "output_type": "stream",
     "text": [
      "[('Green Park Underground Station', 51.506947, -0.142787), ('Oxford Circus Underground Station', 51.515224, -0.141903), ('Pimlico Underground Station', 51.489097, -0.133761), ('Stockwell Underground Station', 51.472184, -0.122644), ('Warren Street Underground Station', 51.524951, -0.138321), ('Blackhorse Road', 51.586768, -0.041185), ('Brixton', 51.462961, -0.114531), ('Euston', 51.527365, -0.132754), ('Finsbury Park', 51.564778, -0.105876), ('Highbury & Islington', 51.546269, -0.103538), (\"King's Cross & St Pancras International\", 51.531683, -0.123538), ('Seven Sisters', 51.582931, -0.073306), ('Tottenham Hale', 51.588315, -0.06024), ('Victoria', 51.495812, -0.143826), ('Vauxhall', 51.485739, -0.123303), ('Walthamstow Central', 51.582948, -0.019842)]\n"
     ]
    }
   ],
   "source": [
    "import requests\n",
    "import json\n",
    "import pandas as pd\n",
    "response = requests.get(\"https://api.tfl.gov.uk/Line/victoria/Route/Sequence/outbound\")\n",
    "JSO = response.json()\n",
    "#Json = json.loads(JSO)\n",
    "df = pd.json_normalize(JSO['stations'])\n",
    "#df.to_csv(r'/Users/josiahwu29/Downloads/CircleLine.csv')\n",
    "Names = df['name'].tolist()\n",
    "LAT = df['lat'].tolist()\n",
    "LON = df['lon'].tolist()\n",
    "Coords = list(zip(Names,LAT,LON))\n",
    "print(Coords)"
   ]
  },
  {
   "cell_type": "code",
   "execution_count": 228,
   "id": "c5087288",
   "metadata": {},
   "outputs": [
    {
     "name": "stdout",
     "output_type": "stream",
     "text": [
      "                                               $type    lineId  lineName  \\\n",
      "0  Tfl.Api.Presentation.Entities.StopPointSequenc...  victoria  Victoria   \n",
      "\n",
      "  direction  branchId nextBranchIds prevBranchIds  \\\n",
      "0  outbound         1            []            []   \n",
      "\n",
      "                                           stopPoint serviceType  \n",
      "0  [{'$type': 'Tfl.Api.Presentation.Entities.Matc...     Regular  \n"
     ]
    }
   ],
   "source": [
    "print(pd.json_normalize(JSO['stopPointSequences']))"
   ]
  },
  {
   "cell_type": "code",
   "execution_count": 229,
   "id": "93cde773",
   "metadata": {},
   "outputs": [
    {
     "name": "stdout",
     "output_type": "stream",
     "text": [
      "[{'$type': 'Tfl.Api.Presentation.Entities.MatchedStop, Tfl.Api.Presentation.Entities', 'parentId': 'HUBBRX', 'stationId': '940GZZLUBXN', 'icsId': '1000031', 'topMostParentId': 'HUBBRX', 'modes': ['tube'], 'stopType': 'NaptanMetroStation', 'zone': '2', 'lines': [{'$type': 'Tfl.Api.Presentation.Entities.Identifier, Tfl.Api.Presentation.Entities', 'id': 'victoria', 'name': 'Victoria', 'uri': '/Line/victoria', 'type': 'Line', 'crowding': {'$type': 'Tfl.Api.Presentation.Entities.Crowding, Tfl.Api.Presentation.Entities'}, 'routeType': 'Unknown', 'status': 'Unknown'}], 'status': True, 'id': '940GZZLUBXN', 'name': 'Brixton Underground Station', 'lat': 51.462618, 'lon': -0.114888}, {'$type': 'Tfl.Api.Presentation.Entities.MatchedStop, Tfl.Api.Presentation.Entities', 'stationId': '940GZZLUSKW', 'icsId': '1000223', 'topMostParentId': '940GZZLUSKW', 'modes': ['bus', 'tube'], 'stopType': 'NaptanMetroStation', 'zone': '2', 'lines': [{'$type': 'Tfl.Api.Presentation.Entities.Identifier, Tfl.Api.Presentation.Entities', 'id': '155', 'name': '155', 'uri': '/Line/155', 'type': 'Line', 'crowding': {'$type': 'Tfl.Api.Presentation.Entities.Crowding, Tfl.Api.Presentation.Entities'}, 'routeType': 'Unknown', 'status': 'Unknown'}, {'$type': 'Tfl.Api.Presentation.Entities.Identifier, Tfl.Api.Presentation.Entities', 'id': '345', 'name': '345', 'uri': '/Line/345', 'type': 'Line', 'crowding': {'$type': 'Tfl.Api.Presentation.Entities.Crowding, Tfl.Api.Presentation.Entities'}, 'routeType': 'Unknown', 'status': 'Unknown'}, {'$type': 'Tfl.Api.Presentation.Entities.Identifier, Tfl.Api.Presentation.Entities', 'id': 'n155', 'name': 'N155', 'uri': '/Line/n155', 'type': 'Line', 'crowding': {'$type': 'Tfl.Api.Presentation.Entities.Crowding, Tfl.Api.Presentation.Entities'}, 'routeType': 'Unknown', 'status': 'Unknown'}, {'$type': 'Tfl.Api.Presentation.Entities.Identifier, Tfl.Api.Presentation.Entities', 'id': 'northern', 'name': 'Northern', 'uri': '/Line/northern', 'type': 'Line', 'crowding': {'$type': 'Tfl.Api.Presentation.Entities.Crowding, Tfl.Api.Presentation.Entities'}, 'routeType': 'Unknown', 'status': 'Unknown'}, {'$type': 'Tfl.Api.Presentation.Entities.Identifier, Tfl.Api.Presentation.Entities', 'id': 'victoria', 'name': 'Victoria', 'uri': '/Line/victoria', 'type': 'Line', 'crowding': {'$type': 'Tfl.Api.Presentation.Entities.Crowding, Tfl.Api.Presentation.Entities'}, 'routeType': 'Unknown', 'status': 'Unknown'}], 'status': True, 'id': '940GZZLUSKW', 'name': 'Stockwell Underground Station', 'lat': 51.472184, 'lon': -0.122644}, {'$type': 'Tfl.Api.Presentation.Entities.MatchedStop, Tfl.Api.Presentation.Entities', 'parentId': 'HUBVXH', 'stationId': '940GZZLUVXL', 'icsId': '1000247', 'topMostParentId': 'HUBVXH', 'modes': ['tube'], 'stopType': 'NaptanMetroStation', 'zone': '1+2', 'lines': [{'$type': 'Tfl.Api.Presentation.Entities.Identifier, Tfl.Api.Presentation.Entities', 'id': 'victoria', 'name': 'Victoria', 'uri': '/Line/victoria', 'type': 'Line', 'crowding': {'$type': 'Tfl.Api.Presentation.Entities.Crowding, Tfl.Api.Presentation.Entities'}, 'routeType': 'Unknown', 'status': 'Unknown'}], 'status': True, 'id': '940GZZLUVXL', 'name': 'Vauxhall Underground Station', 'lat': 51.485743, 'lon': -0.124204}, {'$type': 'Tfl.Api.Presentation.Entities.MatchedStop, Tfl.Api.Presentation.Entities', 'stationId': '940GZZLUPCO', 'icsId': '1000180', 'topMostParentId': '940GZZLUPCO', 'modes': ['bus', 'tube'], 'stopType': 'NaptanMetroStation', 'zone': '1', 'lines': [{'$type': 'Tfl.Api.Presentation.Entities.Identifier, Tfl.Api.Presentation.Entities', 'id': '185', 'name': '185', 'uri': '/Line/185', 'type': 'Line', 'crowding': {'$type': 'Tfl.Api.Presentation.Entities.Crowding, Tfl.Api.Presentation.Entities'}, 'routeType': 'Unknown', 'status': 'Unknown'}, {'$type': 'Tfl.Api.Presentation.Entities.Identifier, Tfl.Api.Presentation.Entities', 'id': '2', 'name': '2', 'uri': '/Line/2', 'type': 'Line', 'crowding': {'$type': 'Tfl.Api.Presentation.Entities.Crowding, Tfl.Api.Presentation.Entities'}, 'routeType': 'Unknown', 'status': 'Unknown'}, {'$type': 'Tfl.Api.Presentation.Entities.Identifier, Tfl.Api.Presentation.Entities', 'id': '36', 'name': '36', 'uri': '/Line/36', 'type': 'Line', 'crowding': {'$type': 'Tfl.Api.Presentation.Entities.Crowding, Tfl.Api.Presentation.Entities'}, 'routeType': 'Unknown', 'status': 'Unknown'}, {'$type': 'Tfl.Api.Presentation.Entities.Identifier, Tfl.Api.Presentation.Entities', 'id': '360', 'name': '360', 'uri': '/Line/360', 'type': 'Line', 'crowding': {'$type': 'Tfl.Api.Presentation.Entities.Crowding, Tfl.Api.Presentation.Entities'}, 'routeType': 'Unknown', 'status': 'Unknown'}, {'$type': 'Tfl.Api.Presentation.Entities.Identifier, Tfl.Api.Presentation.Entities', 'id': 'c10', 'name': 'C10', 'uri': '/Line/c10', 'type': 'Line', 'crowding': {'$type': 'Tfl.Api.Presentation.Entities.Crowding, Tfl.Api.Presentation.Entities'}, 'routeType': 'Unknown', 'status': 'Unknown'}, {'$type': 'Tfl.Api.Presentation.Entities.Identifier, Tfl.Api.Presentation.Entities', 'id': 'n136', 'name': 'N136', 'uri': '/Line/n136', 'type': 'Line', 'crowding': {'$type': 'Tfl.Api.Presentation.Entities.Crowding, Tfl.Api.Presentation.Entities'}, 'routeType': 'Unknown', 'status': 'Unknown'}, {'$type': 'Tfl.Api.Presentation.Entities.Identifier, Tfl.Api.Presentation.Entities', 'id': 'n2', 'name': 'N2', 'uri': '/Line/n2', 'type': 'Line', 'crowding': {'$type': 'Tfl.Api.Presentation.Entities.Crowding, Tfl.Api.Presentation.Entities'}, 'routeType': 'Unknown', 'status': 'Unknown'}, {'$type': 'Tfl.Api.Presentation.Entities.Identifier, Tfl.Api.Presentation.Entities', 'id': 'victoria', 'name': 'Victoria', 'uri': '/Line/victoria', 'type': 'Line', 'crowding': {'$type': 'Tfl.Api.Presentation.Entities.Crowding, Tfl.Api.Presentation.Entities'}, 'routeType': 'Unknown', 'status': 'Unknown'}], 'status': True, 'id': '940GZZLUPCO', 'name': 'Pimlico Underground Station', 'lat': 51.489097, 'lon': -0.133761}, {'$type': 'Tfl.Api.Presentation.Entities.MatchedStop, Tfl.Api.Presentation.Entities', 'parentId': 'HUBVIC', 'stationId': '940GZZLUVIC', 'icsId': '1000248', 'topMostParentId': 'HUBVIC', 'modes': ['tube'], 'stopType': 'NaptanMetroStation', 'zone': '1', 'lines': [{'$type': 'Tfl.Api.Presentation.Entities.Identifier, Tfl.Api.Presentation.Entities', 'id': 'circle', 'name': 'Circle', 'uri': '/Line/circle', 'type': 'Line', 'crowding': {'$type': 'Tfl.Api.Presentation.Entities.Crowding, Tfl.Api.Presentation.Entities'}, 'routeType': 'Unknown', 'status': 'Unknown'}, {'$type': 'Tfl.Api.Presentation.Entities.Identifier, Tfl.Api.Presentation.Entities', 'id': 'district', 'name': 'District', 'uri': '/Line/district', 'type': 'Line', 'crowding': {'$type': 'Tfl.Api.Presentation.Entities.Crowding, Tfl.Api.Presentation.Entities'}, 'routeType': 'Unknown', 'status': 'Unknown'}, {'$type': 'Tfl.Api.Presentation.Entities.Identifier, Tfl.Api.Presentation.Entities', 'id': 'victoria', 'name': 'Victoria', 'uri': '/Line/victoria', 'type': 'Line', 'crowding': {'$type': 'Tfl.Api.Presentation.Entities.Crowding, Tfl.Api.Presentation.Entities'}, 'routeType': 'Unknown', 'status': 'Unknown'}], 'status': True, 'id': '940GZZLUVIC', 'name': 'Victoria Underground Station', 'lat': 51.496359, 'lon': -0.143102}, {'$type': 'Tfl.Api.Presentation.Entities.MatchedStop, Tfl.Api.Presentation.Entities', 'stationId': '940GZZLUGPK', 'icsId': '1000093', 'topMostParentId': '940GZZLUGPK', 'modes': ['bus', 'tube'], 'stopType': 'NaptanMetroStation', 'zone': '1', 'hasDisruption': True, 'lines': [{'$type': 'Tfl.Api.Presentation.Entities.Identifier, Tfl.Api.Presentation.Entities', 'id': '14', 'name': '14', 'uri': '/Line/14', 'type': 'Line', 'crowding': {'$type': 'Tfl.Api.Presentation.Entities.Crowding, Tfl.Api.Presentation.Entities'}, 'routeType': 'Unknown', 'status': 'Unknown'}, {'$type': 'Tfl.Api.Presentation.Entities.Identifier, Tfl.Api.Presentation.Entities', 'id': '19', 'name': '19', 'uri': '/Line/19', 'type': 'Line', 'crowding': {'$type': 'Tfl.Api.Presentation.Entities.Crowding, Tfl.Api.Presentation.Entities'}, 'routeType': 'Unknown', 'status': 'Unknown'}, {'$type': 'Tfl.Api.Presentation.Entities.Identifier, Tfl.Api.Presentation.Entities', 'id': '22', 'name': '22', 'uri': '/Line/22', 'type': 'Line', 'crowding': {'$type': 'Tfl.Api.Presentation.Entities.Crowding, Tfl.Api.Presentation.Entities'}, 'routeType': 'Unknown', 'status': 'Unknown'}, {'$type': 'Tfl.Api.Presentation.Entities.Identifier, Tfl.Api.Presentation.Entities', 'id': '38', 'name': '38', 'uri': '/Line/38', 'type': 'Line', 'crowding': {'$type': 'Tfl.Api.Presentation.Entities.Crowding, Tfl.Api.Presentation.Entities'}, 'routeType': 'Unknown', 'status': 'Unknown'}, {'$type': 'Tfl.Api.Presentation.Entities.Identifier, Tfl.Api.Presentation.Entities', 'id': '6', 'name': '6', 'uri': '/Line/6', 'type': 'Line', 'crowding': {'$type': 'Tfl.Api.Presentation.Entities.Crowding, Tfl.Api.Presentation.Entities'}, 'routeType': 'Unknown', 'status': 'Unknown'}, {'$type': 'Tfl.Api.Presentation.Entities.Identifier, Tfl.Api.Presentation.Entities', 'id': '9', 'name': '9', 'uri': '/Line/9', 'type': 'Line', 'crowding': {'$type': 'Tfl.Api.Presentation.Entities.Crowding, Tfl.Api.Presentation.Entities'}, 'routeType': 'Unknown', 'status': 'Unknown'}, {'$type': 'Tfl.Api.Presentation.Entities.Identifier, Tfl.Api.Presentation.Entities', 'id': 'jubilee', 'name': 'Jubilee', 'uri': '/Line/jubilee', 'type': 'Line', 'crowding': {'$type': 'Tfl.Api.Presentation.Entities.Crowding, Tfl.Api.Presentation.Entities'}, 'routeType': 'Unknown', 'status': 'Unknown'}, {'$type': 'Tfl.Api.Presentation.Entities.Identifier, Tfl.Api.Presentation.Entities', 'id': 'n19', 'name': 'N19', 'uri': '/Line/n19', 'type': 'Line', 'crowding': {'$type': 'Tfl.Api.Presentation.Entities.Crowding, Tfl.Api.Presentation.Entities'}, 'routeType': 'Unknown', 'status': 'Unknown'}, {'$type': 'Tfl.Api.Presentation.Entities.Identifier, Tfl.Api.Presentation.Entities', 'id': 'n22', 'name': 'N22', 'uri': '/Line/n22', 'type': 'Line', 'crowding': {'$type': 'Tfl.Api.Presentation.Entities.Crowding, Tfl.Api.Presentation.Entities'}, 'routeType': 'Unknown', 'status': 'Unknown'}, {'$type': 'Tfl.Api.Presentation.Entities.Identifier, Tfl.Api.Presentation.Entities', 'id': 'n38', 'name': 'N38', 'uri': '/Line/n38', 'type': 'Line', 'crowding': {'$type': 'Tfl.Api.Presentation.Entities.Crowding, Tfl.Api.Presentation.Entities'}, 'routeType': 'Unknown', 'status': 'Unknown'}, {'$type': 'Tfl.Api.Presentation.Entities.Identifier, Tfl.Api.Presentation.Entities', 'id': 'n9', 'name': 'N9', 'uri': '/Line/n9', 'type': 'Line', 'crowding': {'$type': 'Tfl.Api.Presentation.Entities.Crowding, Tfl.Api.Presentation.Entities'}, 'routeType': 'Unknown', 'status': 'Unknown'}, {'$type': 'Tfl.Api.Presentation.Entities.Identifier, Tfl.Api.Presentation.Entities', 'id': 'n97', 'name': 'N97', 'uri': '/Line/n97', 'type': 'Line', 'crowding': {'$type': 'Tfl.Api.Presentation.Entities.Crowding, Tfl.Api.Presentation.Entities'}, 'routeType': 'Unknown', 'status': 'Unknown'}, {'$type': 'Tfl.Api.Presentation.Entities.Identifier, Tfl.Api.Presentation.Entities', 'id': 'piccadilly', 'name': 'Piccadilly', 'uri': '/Line/piccadilly', 'type': 'Line', 'crowding': {'$type': 'Tfl.Api.Presentation.Entities.Crowding, Tfl.Api.Presentation.Entities'}, 'routeType': 'Unknown', 'status': 'Unknown'}, {'$type': 'Tfl.Api.Presentation.Entities.Identifier, Tfl.Api.Presentation.Entities', 'id': 'victoria', 'name': 'Victoria', 'uri': '/Line/victoria', 'type': 'Line', 'crowding': {'$type': 'Tfl.Api.Presentation.Entities.Crowding, Tfl.Api.Presentation.Entities'}, 'routeType': 'Unknown', 'status': 'Unknown'}], 'status': True, 'id': '940GZZLUGPK', 'name': 'Green Park Underground Station', 'lat': 51.506947, 'lon': -0.142787}, {'$type': 'Tfl.Api.Presentation.Entities.MatchedStop, Tfl.Api.Presentation.Entities', 'stationId': '940GZZLUOXC', 'icsId': '1000173', 'topMostParentId': '940GZZLUOXC', 'modes': ['tube', 'bus'], 'stopType': 'NaptanMetroStation', 'zone': '1', 'lines': [{'$type': 'Tfl.Api.Presentation.Entities.Identifier, Tfl.Api.Presentation.Entities', 'id': '12', 'name': '12', 'uri': '/Line/12', 'type': 'Line', 'crowding': {'$type': 'Tfl.Api.Presentation.Entities.Crowding, Tfl.Api.Presentation.Entities'}, 'routeType': 'Unknown', 'status': 'Unknown'}, {'$type': 'Tfl.Api.Presentation.Entities.Identifier, Tfl.Api.Presentation.Entities', 'id': '139', 'name': '139', 'uri': '/Line/139', 'type': 'Line', 'crowding': {'$type': 'Tfl.Api.Presentation.Entities.Crowding, Tfl.Api.Presentation.Entities'}, 'routeType': 'Unknown', 'status': 'Unknown'}, {'$type': 'Tfl.Api.Presentation.Entities.Identifier, Tfl.Api.Presentation.Entities', 'id': '159', 'name': '159', 'uri': '/Line/159', 'type': 'Line', 'crowding': {'$type': 'Tfl.Api.Presentation.Entities.Crowding, Tfl.Api.Presentation.Entities'}, 'routeType': 'Unknown', 'status': 'Unknown'}, {'$type': 'Tfl.Api.Presentation.Entities.Identifier, Tfl.Api.Presentation.Entities', 'id': '22', 'name': '22', 'uri': '/Line/22', 'type': 'Line', 'crowding': {'$type': 'Tfl.Api.Presentation.Entities.Crowding, Tfl.Api.Presentation.Entities'}, 'routeType': 'Unknown', 'status': 'Unknown'}, {'$type': 'Tfl.Api.Presentation.Entities.Identifier, Tfl.Api.Presentation.Entities', 'id': '88', 'name': '88', 'uri': '/Line/88', 'type': 'Line', 'crowding': {'$type': 'Tfl.Api.Presentation.Entities.Crowding, Tfl.Api.Presentation.Entities'}, 'routeType': 'Unknown', 'status': 'Unknown'}, {'$type': 'Tfl.Api.Presentation.Entities.Identifier, Tfl.Api.Presentation.Entities', 'id': '94', 'name': '94', 'uri': '/Line/94', 'type': 'Line', 'crowding': {'$type': 'Tfl.Api.Presentation.Entities.Crowding, Tfl.Api.Presentation.Entities'}, 'routeType': 'Unknown', 'status': 'Unknown'}, {'$type': 'Tfl.Api.Presentation.Entities.Identifier, Tfl.Api.Presentation.Entities', 'id': 'bakerloo', 'name': 'Bakerloo', 'uri': '/Line/bakerloo', 'type': 'Line', 'crowding': {'$type': 'Tfl.Api.Presentation.Entities.Crowding, Tfl.Api.Presentation.Entities'}, 'routeType': 'Unknown', 'status': 'Unknown'}, {'$type': 'Tfl.Api.Presentation.Entities.Identifier, Tfl.Api.Presentation.Entities', 'id': 'central', 'name': 'Central', 'uri': '/Line/central', 'type': 'Line', 'crowding': {'$type': 'Tfl.Api.Presentation.Entities.Crowding, Tfl.Api.Presentation.Entities'}, 'routeType': 'Unknown', 'status': 'Unknown'}, {'$type': 'Tfl.Api.Presentation.Entities.Identifier, Tfl.Api.Presentation.Entities', 'id': 'n109', 'name': 'N109', 'uri': '/Line/n109', 'type': 'Line', 'crowding': {'$type': 'Tfl.Api.Presentation.Entities.Crowding, Tfl.Api.Presentation.Entities'}, 'routeType': 'Unknown', 'status': 'Unknown'}, {'$type': 'Tfl.Api.Presentation.Entities.Identifier, Tfl.Api.Presentation.Entities', 'id': 'n113', 'name': 'N113', 'uri': '/Line/n113', 'type': 'Line', 'crowding': {'$type': 'Tfl.Api.Presentation.Entities.Crowding, Tfl.Api.Presentation.Entities'}, 'routeType': 'Unknown', 'status': 'Unknown'}, {'$type': 'Tfl.Api.Presentation.Entities.Identifier, Tfl.Api.Presentation.Entities', 'id': 'n136', 'name': 'N136', 'uri': '/Line/n136', 'type': 'Line', 'crowding': {'$type': 'Tfl.Api.Presentation.Entities.Crowding, Tfl.Api.Presentation.Entities'}, 'routeType': 'Unknown', 'status': 'Unknown'}, {'$type': 'Tfl.Api.Presentation.Entities.Identifier, Tfl.Api.Presentation.Entities', 'id': 'n137', 'name': 'N137', 'uri': '/Line/n137', 'type': 'Line', 'crowding': {'$type': 'Tfl.Api.Presentation.Entities.Crowding, Tfl.Api.Presentation.Entities'}, 'routeType': 'Unknown', 'status': 'Unknown'}, {'$type': 'Tfl.Api.Presentation.Entities.Identifier, Tfl.Api.Presentation.Entities', 'id': 'n15', 'name': 'N15', 'uri': '/Line/n15', 'type': 'Line', 'crowding': {'$type': 'Tfl.Api.Presentation.Entities.Crowding, Tfl.Api.Presentation.Entities'}, 'routeType': 'Unknown', 'status': 'Unknown'}, {'$type': 'Tfl.Api.Presentation.Entities.Identifier, Tfl.Api.Presentation.Entities', 'id': 'n18', 'name': 'N18', 'uri': '/Line/n18', 'type': 'Line', 'crowding': {'$type': 'Tfl.Api.Presentation.Entities.Crowding, Tfl.Api.Presentation.Entities'}, 'routeType': 'Unknown', 'status': 'Unknown'}, {'$type': 'Tfl.Api.Presentation.Entities.Identifier, Tfl.Api.Presentation.Entities', 'id': 'n22', 'name': 'N22', 'uri': '/Line/n22', 'type': 'Line', 'crowding': {'$type': 'Tfl.Api.Presentation.Entities.Crowding, Tfl.Api.Presentation.Entities'}, 'routeType': 'Unknown', 'status': 'Unknown'}, {'$type': 'Tfl.Api.Presentation.Entities.Identifier, Tfl.Api.Presentation.Entities', 'id': 'n3', 'name': 'N3', 'uri': '/Line/n3', 'type': 'Line', 'crowding': {'$type': 'Tfl.Api.Presentation.Entities.Crowding, Tfl.Api.Presentation.Entities'}, 'routeType': 'Unknown', 'status': 'Unknown'}, {'$type': 'Tfl.Api.Presentation.Entities.Identifier, Tfl.Api.Presentation.Entities', 'id': 'victoria', 'name': 'Victoria', 'uri': '/Line/victoria', 'type': 'Line', 'crowding': {'$type': 'Tfl.Api.Presentation.Entities.Crowding, Tfl.Api.Presentation.Entities'}, 'routeType': 'Unknown', 'status': 'Unknown'}], 'status': True, 'id': '940GZZLUOXC', 'name': 'Oxford Circus Underground Station', 'lat': 51.515224, 'lon': -0.141903}, {'$type': 'Tfl.Api.Presentation.Entities.MatchedStop, Tfl.Api.Presentation.Entities', 'stationId': '940GZZLUWRR', 'icsId': '1000252', 'topMostParentId': '940GZZLUWRR', 'modes': ['bus', 'tube'], 'stopType': 'NaptanMetroStation', 'zone': '1', 'lines': [{'$type': 'Tfl.Api.Presentation.Entities.Identifier, Tfl.Api.Presentation.Entities', 'id': '134', 'name': '134', 'uri': '/Line/134', 'type': 'Line', 'crowding': {'$type': 'Tfl.Api.Presentation.Entities.Crowding, Tfl.Api.Presentation.Entities'}, 'routeType': 'Unknown', 'status': 'Unknown'}, {'$type': 'Tfl.Api.Presentation.Entities.Identifier, Tfl.Api.Presentation.Entities', 'id': '18', 'name': '18', 'uri': '/Line/18', 'type': 'Line', 'crowding': {'$type': 'Tfl.Api.Presentation.Entities.Crowding, Tfl.Api.Presentation.Entities'}, 'routeType': 'Unknown', 'status': 'Unknown'}, {'$type': 'Tfl.Api.Presentation.Entities.Identifier, Tfl.Api.Presentation.Entities', 'id': '205', 'name': '205', 'uri': '/Line/205', 'type': 'Line', 'crowding': {'$type': 'Tfl.Api.Presentation.Entities.Crowding, Tfl.Api.Presentation.Entities'}, 'routeType': 'Unknown', 'status': 'Unknown'}, {'$type': 'Tfl.Api.Presentation.Entities.Identifier, Tfl.Api.Presentation.Entities', 'id': '24', 'name': '24', 'uri': '/Line/24', 'type': 'Line', 'crowding': {'$type': 'Tfl.Api.Presentation.Entities.Crowding, Tfl.Api.Presentation.Entities'}, 'routeType': 'Unknown', 'status': 'Unknown'}, {'$type': 'Tfl.Api.Presentation.Entities.Identifier, Tfl.Api.Presentation.Entities', 'id': '27', 'name': '27', 'uri': '/Line/27', 'type': 'Line', 'crowding': {'$type': 'Tfl.Api.Presentation.Entities.Crowding, Tfl.Api.Presentation.Entities'}, 'routeType': 'Unknown', 'status': 'Unknown'}, {'$type': 'Tfl.Api.Presentation.Entities.Identifier, Tfl.Api.Presentation.Entities', 'id': '29', 'name': '29', 'uri': '/Line/29', 'type': 'Line', 'crowding': {'$type': 'Tfl.Api.Presentation.Entities.Crowding, Tfl.Api.Presentation.Entities'}, 'routeType': 'Unknown', 'status': 'Unknown'}, {'$type': 'Tfl.Api.Presentation.Entities.Identifier, Tfl.Api.Presentation.Entities', 'id': '30', 'name': '30', 'uri': '/Line/30', 'type': 'Line', 'crowding': {'$type': 'Tfl.Api.Presentation.Entities.Crowding, Tfl.Api.Presentation.Entities'}, 'routeType': 'Unknown', 'status': 'Unknown'}, {'$type': 'Tfl.Api.Presentation.Entities.Identifier, Tfl.Api.Presentation.Entities', 'id': '390', 'name': '390', 'uri': '/Line/390', 'type': 'Line', 'crowding': {'$type': 'Tfl.Api.Presentation.Entities.Crowding, Tfl.Api.Presentation.Entities'}, 'routeType': 'Unknown', 'status': 'Unknown'}, {'$type': 'Tfl.Api.Presentation.Entities.Identifier, Tfl.Api.Presentation.Entities', 'id': '73', 'name': '73', 'uri': '/Line/73', 'type': 'Line', 'crowding': {'$type': 'Tfl.Api.Presentation.Entities.Crowding, Tfl.Api.Presentation.Entities'}, 'routeType': 'Unknown', 'status': 'Unknown'}, {'$type': 'Tfl.Api.Presentation.Entities.Identifier, Tfl.Api.Presentation.Entities', 'id': 'n20', 'name': 'N20', 'uri': '/Line/n20', 'type': 'Line', 'crowding': {'$type': 'Tfl.Api.Presentation.Entities.Crowding, Tfl.Api.Presentation.Entities'}, 'routeType': 'Unknown', 'status': 'Unknown'}, {'$type': 'Tfl.Api.Presentation.Entities.Identifier, Tfl.Api.Presentation.Entities', 'id': 'n205', 'name': 'N205', 'uri': '/Line/n205', 'type': 'Line', 'crowding': {'$type': 'Tfl.Api.Presentation.Entities.Crowding, Tfl.Api.Presentation.Entities'}, 'routeType': 'Unknown', 'status': 'Unknown'}, {'$type': 'Tfl.Api.Presentation.Entities.Identifier, Tfl.Api.Presentation.Entities', 'id': 'n253', 'name': 'N253', 'uri': '/Line/n253', 'type': 'Line', 'crowding': {'$type': 'Tfl.Api.Presentation.Entities.Crowding, Tfl.Api.Presentation.Entities'}, 'routeType': 'Unknown', 'status': 'Unknown'}, {'$type': 'Tfl.Api.Presentation.Entities.Identifier, Tfl.Api.Presentation.Entities', 'id': 'n27', 'name': 'N27', 'uri': '/Line/n27', 'type': 'Line', 'crowding': {'$type': 'Tfl.Api.Presentation.Entities.Crowding, Tfl.Api.Presentation.Entities'}, 'routeType': 'Unknown', 'status': 'Unknown'}, {'$type': 'Tfl.Api.Presentation.Entities.Identifier, Tfl.Api.Presentation.Entities', 'id': 'n279', 'name': 'N279', 'uri': '/Line/n279', 'type': 'Line', 'crowding': {'$type': 'Tfl.Api.Presentation.Entities.Crowding, Tfl.Api.Presentation.Entities'}, 'routeType': 'Unknown', 'status': 'Unknown'}, {'$type': 'Tfl.Api.Presentation.Entities.Identifier, Tfl.Api.Presentation.Entities', 'id': 'n29', 'name': 'N29', 'uri': '/Line/n29', 'type': 'Line', 'crowding': {'$type': 'Tfl.Api.Presentation.Entities.Crowding, Tfl.Api.Presentation.Entities'}, 'routeType': 'Unknown', 'status': 'Unknown'}, {'$type': 'Tfl.Api.Presentation.Entities.Identifier, Tfl.Api.Presentation.Entities', 'id': 'n5', 'name': 'N5', 'uri': '/Line/n5', 'type': 'Line', 'crowding': {'$type': 'Tfl.Api.Presentation.Entities.Crowding, Tfl.Api.Presentation.Entities'}, 'routeType': 'Unknown', 'status': 'Unknown'}, {'$type': 'Tfl.Api.Presentation.Entities.Identifier, Tfl.Api.Presentation.Entities', 'id': 'n73', 'name': 'N73', 'uri': '/Line/n73', 'type': 'Line', 'crowding': {'$type': 'Tfl.Api.Presentation.Entities.Crowding, Tfl.Api.Presentation.Entities'}, 'routeType': 'Unknown', 'status': 'Unknown'}, {'$type': 'Tfl.Api.Presentation.Entities.Identifier, Tfl.Api.Presentation.Entities', 'id': 'northern', 'name': 'Northern', 'uri': '/Line/northern', 'type': 'Line', 'crowding': {'$type': 'Tfl.Api.Presentation.Entities.Crowding, Tfl.Api.Presentation.Entities'}, 'routeType': 'Unknown', 'status': 'Unknown'}, {'$type': 'Tfl.Api.Presentation.Entities.Identifier, Tfl.Api.Presentation.Entities', 'id': 'victoria', 'name': 'Victoria', 'uri': '/Line/victoria', 'type': 'Line', 'crowding': {'$type': 'Tfl.Api.Presentation.Entities.Crowding, Tfl.Api.Presentation.Entities'}, 'routeType': 'Unknown', 'status': 'Unknown'}], 'status': True, 'id': '940GZZLUWRR', 'name': 'Warren Street Underground Station', 'lat': 51.524951, 'lon': -0.138321}, {'$type': 'Tfl.Api.Presentation.Entities.MatchedStop, Tfl.Api.Presentation.Entities', 'parentId': 'HUBEUS', 'stationId': '940GZZLUEUS', 'icsId': '1000077', 'topMostParentId': 'HUBEUS', 'modes': ['tube'], 'stopType': 'NaptanMetroStation', 'zone': '1', 'lines': [{'$type': 'Tfl.Api.Presentation.Entities.Identifier, Tfl.Api.Presentation.Entities', 'id': 'northern', 'name': 'Northern', 'uri': '/Line/northern', 'type': 'Line', 'crowding': {'$type': 'Tfl.Api.Presentation.Entities.Crowding, Tfl.Api.Presentation.Entities'}, 'routeType': 'Unknown', 'status': 'Unknown'}, {'$type': 'Tfl.Api.Presentation.Entities.Identifier, Tfl.Api.Presentation.Entities', 'id': 'victoria', 'name': 'Victoria', 'uri': '/Line/victoria', 'type': 'Line', 'crowding': {'$type': 'Tfl.Api.Presentation.Entities.Crowding, Tfl.Api.Presentation.Entities'}, 'routeType': 'Unknown', 'status': 'Unknown'}], 'status': True, 'id': '940GZZLUEUS', 'name': 'Euston Underground Station', 'lat': 51.528344, 'lon': -0.1323}, {'$type': 'Tfl.Api.Presentation.Entities.MatchedStop, Tfl.Api.Presentation.Entities', 'parentId': 'HUBKGX', 'stationId': '940GZZLUKSX', 'icsId': '1000129', 'topMostParentId': 'HUBKGX', 'modes': ['tube'], 'stopType': 'NaptanMetroStation', 'zone': '1', 'lines': [{'$type': 'Tfl.Api.Presentation.Entities.Identifier, Tfl.Api.Presentation.Entities', 'id': 'circle', 'name': 'Circle', 'uri': '/Line/circle', 'type': 'Line', 'crowding': {'$type': 'Tfl.Api.Presentation.Entities.Crowding, Tfl.Api.Presentation.Entities'}, 'routeType': 'Unknown', 'status': 'Unknown'}, {'$type': 'Tfl.Api.Presentation.Entities.Identifier, Tfl.Api.Presentation.Entities', 'id': 'hammersmith-city', 'name': 'Hammersmith & City', 'uri': '/Line/hammersmith-city', 'type': 'Line', 'crowding': {'$type': 'Tfl.Api.Presentation.Entities.Crowding, Tfl.Api.Presentation.Entities'}, 'routeType': 'Unknown', 'status': 'Unknown'}, {'$type': 'Tfl.Api.Presentation.Entities.Identifier, Tfl.Api.Presentation.Entities', 'id': 'metropolitan', 'name': 'Metropolitan', 'uri': '/Line/metropolitan', 'type': 'Line', 'crowding': {'$type': 'Tfl.Api.Presentation.Entities.Crowding, Tfl.Api.Presentation.Entities'}, 'routeType': 'Unknown', 'status': 'Unknown'}, {'$type': 'Tfl.Api.Presentation.Entities.Identifier, Tfl.Api.Presentation.Entities', 'id': 'northern', 'name': 'Northern', 'uri': '/Line/northern', 'type': 'Line', 'crowding': {'$type': 'Tfl.Api.Presentation.Entities.Crowding, Tfl.Api.Presentation.Entities'}, 'routeType': 'Unknown', 'status': 'Unknown'}, {'$type': 'Tfl.Api.Presentation.Entities.Identifier, Tfl.Api.Presentation.Entities', 'id': 'piccadilly', 'name': 'Piccadilly', 'uri': '/Line/piccadilly', 'type': 'Line', 'crowding': {'$type': 'Tfl.Api.Presentation.Entities.Crowding, Tfl.Api.Presentation.Entities'}, 'routeType': 'Unknown', 'status': 'Unknown'}, {'$type': 'Tfl.Api.Presentation.Entities.Identifier, Tfl.Api.Presentation.Entities', 'id': 'victoria', 'name': 'Victoria', 'uri': '/Line/victoria', 'type': 'Line', 'crowding': {'$type': 'Tfl.Api.Presentation.Entities.Crowding, Tfl.Api.Presentation.Entities'}, 'routeType': 'Unknown', 'status': 'Unknown'}], 'status': True, 'id': '940GZZLUKSX', 'name': \"King's Cross St. Pancras Underground Station\", 'lat': 51.530663, 'lon': -0.123194}, {'$type': 'Tfl.Api.Presentation.Entities.MatchedStop, Tfl.Api.Presentation.Entities', 'parentId': 'HUBHHY', 'stationId': '940GZZLUHAI', 'icsId': '1000108', 'topMostParentId': 'HUBHHY', 'modes': ['tube'], 'stopType': 'NaptanMetroStation', 'zone': '2', 'lines': [{'$type': 'Tfl.Api.Presentation.Entities.Identifier, Tfl.Api.Presentation.Entities', 'id': 'victoria', 'name': 'Victoria', 'uri': '/Line/victoria', 'type': 'Line', 'crowding': {'$type': 'Tfl.Api.Presentation.Entities.Crowding, Tfl.Api.Presentation.Entities'}, 'routeType': 'Unknown', 'status': 'Unknown'}], 'status': True, 'id': '940GZZLUHAI', 'name': 'Highbury & Islington Underground Station', 'lat': 51.54635, 'lon': -0.103324}, {'$type': 'Tfl.Api.Presentation.Entities.MatchedStop, Tfl.Api.Presentation.Entities', 'parentId': 'HUBFPK', 'stationId': '940GZZLUFPK', 'icsId': '1000083', 'topMostParentId': 'HUBFPK', 'modes': ['tube'], 'stopType': 'NaptanMetroStation', 'zone': '2', 'lines': [{'$type': 'Tfl.Api.Presentation.Entities.Identifier, Tfl.Api.Presentation.Entities', 'id': 'piccadilly', 'name': 'Piccadilly', 'uri': '/Line/piccadilly', 'type': 'Line', 'crowding': {'$type': 'Tfl.Api.Presentation.Entities.Crowding, Tfl.Api.Presentation.Entities'}, 'routeType': 'Unknown', 'status': 'Unknown'}, {'$type': 'Tfl.Api.Presentation.Entities.Identifier, Tfl.Api.Presentation.Entities', 'id': 'victoria', 'name': 'Victoria', 'uri': '/Line/victoria', 'type': 'Line', 'crowding': {'$type': 'Tfl.Api.Presentation.Entities.Crowding, Tfl.Api.Presentation.Entities'}, 'routeType': 'Unknown', 'status': 'Unknown'}], 'status': True, 'id': '940GZZLUFPK', 'name': 'Finsbury Park Underground Station', 'lat': 51.564158, 'lon': -0.106825}, {'$type': 'Tfl.Api.Presentation.Entities.MatchedStop, Tfl.Api.Presentation.Entities', 'parentId': 'HUBSVS', 'stationId': '940GZZLUSVS', 'icsId': '1000201', 'topMostParentId': 'HUBSVS', 'modes': ['tube'], 'stopType': 'NaptanMetroStation', 'zone': '3', 'hasDisruption': True, 'lines': [{'$type': 'Tfl.Api.Presentation.Entities.Identifier, Tfl.Api.Presentation.Entities', 'id': 'victoria', 'name': 'Victoria', 'uri': '/Line/victoria', 'type': 'Line', 'crowding': {'$type': 'Tfl.Api.Presentation.Entities.Crowding, Tfl.Api.Presentation.Entities'}, 'routeType': 'Unknown', 'status': 'Unknown'}], 'status': True, 'id': '940GZZLUSVS', 'name': 'Seven Sisters Underground Station', 'lat': 51.58333, 'lon': -0.072584}, {'$type': 'Tfl.Api.Presentation.Entities.MatchedStop, Tfl.Api.Presentation.Entities', 'parentId': 'HUBTOM', 'stationId': '940GZZLUTMH', 'icsId': '1000236', 'topMostParentId': 'HUBTOM', 'modes': ['tube'], 'stopType': 'NaptanMetroStation', 'zone': '3', 'lines': [{'$type': 'Tfl.Api.Presentation.Entities.Identifier, Tfl.Api.Presentation.Entities', 'id': 'victoria', 'name': 'Victoria', 'uri': '/Line/victoria', 'type': 'Line', 'crowding': {'$type': 'Tfl.Api.Presentation.Entities.Crowding, Tfl.Api.Presentation.Entities'}, 'routeType': 'Unknown', 'status': 'Unknown'}], 'status': True, 'id': '940GZZLUTMH', 'name': 'Tottenham Hale Underground Station', 'lat': 51.588108, 'lon': -0.060241}, {'$type': 'Tfl.Api.Presentation.Entities.MatchedStop, Tfl.Api.Presentation.Entities', 'parentId': 'HUBBHO', 'stationId': '940GZZLUBLR', 'icsId': '1000024', 'topMostParentId': 'HUBBHO', 'modes': ['tube'], 'stopType': 'NaptanMetroStation', 'zone': '3', 'lines': [{'$type': 'Tfl.Api.Presentation.Entities.Identifier, Tfl.Api.Presentation.Entities', 'id': 'victoria', 'name': 'Victoria', 'uri': '/Line/victoria', 'type': 'Line', 'crowding': {'$type': 'Tfl.Api.Presentation.Entities.Crowding, Tfl.Api.Presentation.Entities'}, 'routeType': 'Unknown', 'status': 'Unknown'}], 'status': True, 'id': '940GZZLUBLR', 'name': 'Blackhorse Road Underground Station', 'lat': 51.586919, 'lon': -0.04115}, {'$type': 'Tfl.Api.Presentation.Entities.MatchedStop, Tfl.Api.Presentation.Entities', 'parentId': 'HUBWHC', 'stationId': '940GZZLUWWL', 'icsId': '1000249', 'topMostParentId': 'HUBWHC', 'modes': ['tube'], 'stopType': 'NaptanMetroStation', 'zone': '3', 'lines': [{'$type': 'Tfl.Api.Presentation.Entities.Identifier, Tfl.Api.Presentation.Entities', 'id': 'victoria', 'name': 'Victoria', 'uri': '/Line/victoria', 'type': 'Line', 'crowding': {'$type': 'Tfl.Api.Presentation.Entities.Crowding, Tfl.Api.Presentation.Entities'}, 'routeType': 'Unknown', 'status': 'Unknown'}], 'status': True, 'id': '940GZZLUWWL', 'name': 'Walthamstow Central Underground Station', 'lat': 51.582965, 'lon': -0.019885}]\n"
     ]
    }
   ],
   "source": [
    "print(JSO['stopPointSequences'][0]['stopPoint'])"
   ]
  },
  {
   "cell_type": "code",
   "execution_count": 230,
   "id": "a5ce8612",
   "metadata": {},
   "outputs": [
    {
     "name": "stdout",
     "output_type": "stream",
     "text": [
      "['940GZZLUBXN', '940GZZLUSKW', '940GZZLUVXL', '940GZZLUPCO', '940GZZLUVIC', '940GZZLUGPK', '940GZZLUOXC', '940GZZLUWRR', '940GZZLUEUS', '940GZZLUKSX', '940GZZLUHAI', '940GZZLUFPK', '940GZZLUSVS', '940GZZLUTMH', '940GZZLUBLR', '940GZZLUWWL']\n"
     ]
    }
   ],
   "source": [
    "route = []\n",
    "for x in range(len(JSO['stopPointSequences'][0]['stopPoint'])):\n",
    "    route.append(JSO['stopPointSequences'][0]['stopPoint'][x]['stationId'])\n",
    "print(route)"
   ]
  },
  {
   "cell_type": "code",
   "execution_count": 231,
   "id": "cdedf635",
   "metadata": {},
   "outputs": [
    {
     "name": "stdout",
     "output_type": "stream",
     "text": [
      "30\n"
     ]
    }
   ],
   "source": [
    "response2 = requests.get(\"https://api.tfl.gov.uk/Journey/JourneyResults/940GZZLUWWL/to/940GZZLUBXN\")\n",
    "JSO2 = response2.json()\n",
    "df2 = pd.json_normalize(JSO2)\n",
    "print(JSO2['journeys'][0]['duration'])"
   ]
  },
  {
   "cell_type": "code",
   "execution_count": 233,
   "id": "ebd5d3bf",
   "metadata": {},
   "outputs": [
    {
     "name": "stdout",
     "output_type": "stream",
     "text": [
      "                                                $type        lineId  \\\n",
      "0   Tfl.Api.Presentation.Entities.StopPointSequenc...  metropolitan   \n",
      "1   Tfl.Api.Presentation.Entities.StopPointSequenc...  metropolitan   \n",
      "2   Tfl.Api.Presentation.Entities.StopPointSequenc...  metropolitan   \n",
      "3   Tfl.Api.Presentation.Entities.StopPointSequenc...  metropolitan   \n",
      "4   Tfl.Api.Presentation.Entities.StopPointSequenc...  metropolitan   \n",
      "5   Tfl.Api.Presentation.Entities.StopPointSequenc...  metropolitan   \n",
      "6   Tfl.Api.Presentation.Entities.StopPointSequenc...  metropolitan   \n",
      "7   Tfl.Api.Presentation.Entities.StopPointSequenc...  metropolitan   \n",
      "8   Tfl.Api.Presentation.Entities.StopPointSequenc...  metropolitan   \n",
      "9   Tfl.Api.Presentation.Entities.StopPointSequenc...  metropolitan   \n",
      "10  Tfl.Api.Presentation.Entities.StopPointSequenc...  metropolitan   \n",
      "11  Tfl.Api.Presentation.Entities.StopPointSequenc...  metropolitan   \n",
      "12  Tfl.Api.Presentation.Entities.StopPointSequenc...  metropolitan   \n",
      "13  Tfl.Api.Presentation.Entities.StopPointSequenc...  metropolitan   \n",
      "14  Tfl.Api.Presentation.Entities.StopPointSequenc...  metropolitan   \n",
      "15  Tfl.Api.Presentation.Entities.StopPointSequenc...  metropolitan   \n",
      "16  Tfl.Api.Presentation.Entities.StopPointSequenc...  metropolitan   \n",
      "17  Tfl.Api.Presentation.Entities.StopPointSequenc...  metropolitan   \n",
      "18  Tfl.Api.Presentation.Entities.StopPointSequenc...  metropolitan   \n",
      "19  Tfl.Api.Presentation.Entities.StopPointSequenc...  metropolitan   \n",
      "\n",
      "        lineName direction  branchId nextBranchIds prevBranchIds  \\\n",
      "0   Metropolitan  outbound         7          [15]            []   \n",
      "1   Metropolitan  outbound        15          [16]        [7, 8]   \n",
      "2   Metropolitan  outbound        16      [11, 12]       [15, 9]   \n",
      "3   Metropolitan  outbound        17            []      [13, 14]   \n",
      "4   Metropolitan  outbound        12      [13, 14]      [16, 10]   \n",
      "5   Metropolitan  outbound        14          [17]          [12]   \n",
      "6   Metropolitan  outbound        13          [17]      [11, 12]   \n",
      "7   Metropolitan  outbound         8          [15]            []   \n",
      "8   Metropolitan  outbound        10          [12]            []   \n",
      "9   Metropolitan  outbound         9          [16]            []   \n",
      "10  Metropolitan  outbound         7          [15]            []   \n",
      "11  Metropolitan  outbound        15          [16]        [7, 8]   \n",
      "12  Metropolitan  outbound        16      [11, 12]       [15, 9]   \n",
      "13  Metropolitan  outbound        17            []      [13, 14]   \n",
      "14  Metropolitan  outbound        12      [13, 14]      [16, 10]   \n",
      "15  Metropolitan  outbound        14          [17]          [12]   \n",
      "16  Metropolitan  outbound        13          [17]      [11, 12]   \n",
      "17  Metropolitan  outbound         8          [15]            []   \n",
      "18  Metropolitan  outbound        10          [12]            []   \n",
      "19  Metropolitan  outbound         9          [16]            []   \n",
      "\n",
      "                                            stopPoint serviceType  \n",
      "0   [{'$type': 'Tfl.Api.Presentation.Entities.Matc...     Regular  \n",
      "1   [{'$type': 'Tfl.Api.Presentation.Entities.Matc...     Regular  \n",
      "2   [{'$type': 'Tfl.Api.Presentation.Entities.Matc...     Regular  \n",
      "3   [{'$type': 'Tfl.Api.Presentation.Entities.Matc...     Regular  \n",
      "4   [{'$type': 'Tfl.Api.Presentation.Entities.Matc...     Regular  \n",
      "5   [{'$type': 'Tfl.Api.Presentation.Entities.Matc...     Regular  \n",
      "6   [{'$type': 'Tfl.Api.Presentation.Entities.Matc...     Regular  \n",
      "7   [{'$type': 'Tfl.Api.Presentation.Entities.Matc...     Regular  \n",
      "8   [{'$type': 'Tfl.Api.Presentation.Entities.Matc...     Regular  \n",
      "9   [{'$type': 'Tfl.Api.Presentation.Entities.Matc...     Regular  \n",
      "10  [{'$type': 'Tfl.Api.Presentation.Entities.Matc...     Regular  \n",
      "11  [{'$type': 'Tfl.Api.Presentation.Entities.Matc...     Regular  \n",
      "12  [{'$type': 'Tfl.Api.Presentation.Entities.Matc...     Regular  \n",
      "13  [{'$type': 'Tfl.Api.Presentation.Entities.Matc...     Regular  \n",
      "14  [{'$type': 'Tfl.Api.Presentation.Entities.Matc...     Regular  \n",
      "15  [{'$type': 'Tfl.Api.Presentation.Entities.Matc...     Regular  \n",
      "16  [{'$type': 'Tfl.Api.Presentation.Entities.Matc...     Regular  \n",
      "17  [{'$type': 'Tfl.Api.Presentation.Entities.Matc...     Regular  \n",
      "18  [{'$type': 'Tfl.Api.Presentation.Entities.Matc...     Regular  \n",
      "19  [{'$type': 'Tfl.Api.Presentation.Entities.Matc...     Regular  \n"
     ]
    }
   ],
   "source": [
    "response3 = requests.get(\"https://api.tfl.gov.uk/Line/metropolitan/Route/Sequence/outbound\")\n",
    "JSO3 = response3.json()\n",
    "df3 = pd.json_normalize(JSO3)\n",
    "print(pd.json_normalize(JSO3['stopPointSequences']))"
   ]
  },
  {
   "cell_type": "code",
   "execution_count": 246,
   "id": "480ee797",
   "metadata": {},
   "outputs": [
    {
     "name": "stdout",
     "output_type": "stream",
     "text": [
      "[['940GZZLUAMS', '940GZZLUCAL'], ['940GZZLUCAL', '940GZZLUCYD', '940GZZLURKW', '940GZZLUMPK'], ['940GZZLUMPK', '940GZZLUNOW', '940GZZLUNWH', '940GZZLUPNR', '940GZZLUNHA', '940GZZLUHOH'], ['940GZZLUFYR', '940GZZLUBST', '940GZZLUGPS', '940GZZLUESQ', '940GZZLUKSX', '940GZZLUFCN', '940GZZLUBBN', '940GZZLUMGT', '940GZZLULVT', '940GZZLUALD'], ['940GZZLUHOH', '940GZZLUNKP', '940GZZLUPRD', '940GZZLUWYP'], ['940GZZLUWYP', '940GZZLUWIG', '940GZZLUFYR'], ['940GZZLUWYP', '940GZZLUFYR'], ['940GZZLUCSM', '940GZZLUCAL'], ['940GZZLUUXB', '940GZZLUHGD', '940GZZLUICK', '940GZZLURSP', '940GZZLURSM', '940GZZLUEAE', '940GZZLURYL', '940GZZLUWHW', '940GZZLUHOH'], ['940GZZLUWAF', '940GZZLUCXY', '940GZZLUMPK']]\n"
     ]
    }
   ],
   "source": [
    "routes = []\n",
    "for i in range(len(JSO3['stopPointSequences'])):\n",
    "    branch = []\n",
    "    for x in range(len(JSO3['stopPointSequences'][i]['stopPoint'])):\n",
    "        branch.append(JSO3['stopPointSequences'][i]['stopPoint'][x]['id'])\n",
    "    if branch not in routes:\n",
    "        routes.append(branch)\n",
    "print(routes)"
   ]
  },
  {
   "cell_type": "code",
   "execution_count": 281,
   "id": "7a18b515",
   "metadata": {},
   "outputs": [
    {
     "name": "stdout",
     "output_type": "stream",
     "text": [
      "             Line        Start          End  Duration\n",
      "0        Victoria  940GZZLUBXN  940GZZLUSKW       1.0\n",
      "1        Victoria  940GZZLUSKW  940GZZLUVXL       1.0\n",
      "2        Victoria  940GZZLUVXL  940GZZLUPCO       1.0\n",
      "3        Victoria  940GZZLUPCO  940GZZLUVIC       1.0\n",
      "4        Victoria  940GZZLUVIC  940GZZLUGPK       1.0\n",
      "5        Victoria  940GZZLUGPK  940GZZLUOXC       2.0\n",
      "6        Victoria  940GZZLUOXC  940GZZLUWRR       1.0\n",
      "7        Victoria  940GZZLUWRR  940GZZLUEUS       1.0\n",
      "8        Victoria  940GZZLUEUS  940GZZLUKSX       1.0\n",
      "9        Victoria  940GZZLUKSX  940GZZLUHAI       3.0\n",
      "10       Victoria  940GZZLUHAI  940GZZLUFPK       2.0\n",
      "11       Victoria  940GZZLUFPK  940GZZLUSVS       3.0\n",
      "12       Victoria  940GZZLUSVS  940GZZLUTMH       1.0\n",
      "13       Victoria  940GZZLUTMH  940GZZLUBLR       6.0\n",
      "14       Victoria  940GZZLUBLR  940GZZLUWWL       8.0\n",
      "15  Waterloo-City  940GZZLUWLO  940GZZLUBNK       4.0\n"
     ]
    }
   ],
   "source": [
    "import time\n",
    "import requests\n",
    "import json\n",
    "\n",
    "def GetBranches(line):\n",
    "    link = \"https://api.tfl.gov.uk/Line/\" + str(line) + \"/Route/Sequence/outbound\"\n",
    "    response = requests.get(link)\n",
    "    JSO = response.json()\n",
    "    routes = []\n",
    "    for i in range(len(JSO['stopPointSequences'])):\n",
    "        branch = []\n",
    "        for x in range(len(JSO['stopPointSequences'][i]['stopPoint'])):\n",
    "            branch.append(JSO['stopPointSequences'][i]['stopPoint'][x]['stationId'])\n",
    "        if branch not in routes:\n",
    "            routes.append(branch)\n",
    "    return routes\n",
    "\n",
    "def GetJnyTime(Start,Fin):\n",
    "    link2 = \"https://api.tfl.gov.uk/Journey/JourneyResults/\" + str(Start) + \"/to/\" + str(Fin) + '/'\n",
    "    response2 = requests.get(link2)\n",
    "    JSO2 = response2.json()\n",
    "    return JSO2['journeys'][0]['duration']\n",
    "\n",
    "\n",
    "def GetJnyTimePairs(line):\n",
    "    Branches = GetBranches(line)\n",
    "    finaldf = pd.DataFrame.from_dict({\n",
    "    'Line': [],\n",
    "    'Start': [],\n",
    "    'End': [],\n",
    "    'Duration': []\n",
    "    })\n",
    "    for b in Branches:\n",
    "        length = len(b)\n",
    "        List = []\n",
    "        for i in range(length-1):\n",
    "            time.sleep(1)\n",
    "            X1 = b[i]\n",
    "            X2 = b[i+1]\n",
    "            finaldf.loc[len(finaldf)] = [line,X1,X2,GetJnyTime(X1,X2)]\n",
    "    return finaldf\n",
    "\n",
    "def Flat(l):\n",
    "    return [x for y in l for x in y]\n",
    "\n",
    "Lines = ['Victoria','Waterloo-City']\n",
    "#Lines = ['Bakerloo','Central','Circle','District','Hammersmith-City','Jubilee','Metropolitan','Northern','Piccadilly','Victoria','Waterloo-City']\n",
    "def FinalCountdown(L):\n",
    "    final_df = pd.DataFrame.from_dict({\n",
    "    'Line': [],\n",
    "    'Start': [],\n",
    "    'End': [],\n",
    "    'Duration': []\n",
    "    })\n",
    "    for ll in L:\n",
    "        df2 = GetJnyTimePairs(ll)\n",
    "        final_df = pd.concat([final_df, df2], ignore_index = True)\n",
    "        time.sleep(5)\n",
    "    return final_df\n",
    "\n",
    "print(FinalCountdown(Lines))"
   ]
  },
  {
   "cell_type": "code",
   "execution_count": 248,
   "id": "dd7be187",
   "metadata": {},
   "outputs": [
    {
     "name": "stdout",
     "output_type": "stream",
     "text": [
      "[['940GZZLUSTM', '940GZZLUCPK', '940GZZLUQBY', '940GZZLUKBY', '940GZZLUWYP', '940GZZLUNDN', '940GZZLUDOH', '940GZZLUWIG', '940GZZLUKBN', '940GZZLUWHP', '940GZZLUFYR', '940GZZLUSWC', '940GZZLUSJW', '940GZZLUBST', '940GZZLUBND', '940GZZLUGPK', '940GZZLUWSM', '940GZZLUWLO', '940GZZLUSWK', '940GZZLULNB', '940GZZLUBMY', '940GZZLUCWR', '940GZZLUCYF', '940GZZLUNGW', '940GZZLUCGT', '940GZZLUWHM', '940GZZLUSTD']]\n",
      "[[2, 2, 1, 3, 2, 1, 2, 1, 1, 1, 1, 1, 2, 2, 1, 2, 1, 15, 6, 2, 1, 2, 2, 2, 1, 3]]\n"
     ]
    }
   ],
   "source": [
    "print(GetBranches('Jubilee'))\n",
    "print(GetJnyTimePairs('Jubilee'))"
   ]
  },
  {
   "cell_type": "code",
   "execution_count": 249,
   "id": "9538de77",
   "metadata": {},
   "outputs": [
    {
     "name": "stdout",
     "output_type": "stream",
     "text": [
      "7\n"
     ]
    }
   ],
   "source": [
    "print(GetJnyTime('940GZZLUSWK','940GZZLULNB'))"
   ]
  },
  {
   "cell_type": "code",
   "execution_count": 260,
   "id": "50967937",
   "metadata": {},
   "outputs": [
    {
     "name": "stdout",
     "output_type": "stream",
     "text": [
      "                                               $type        startDateTime  \\\n",
      "0  Tfl.Api.Presentation.Entities.JourneyPlanner.J...  2022-11-22T23:00:00   \n",
      "\n",
      "   duration      arrivalDateTime  \\\n",
      "0        21  2022-11-22T23:21:00   \n",
      "\n",
      "                                                legs  \\\n",
      "0  [{'$type': 'Tfl.Api.Presentation.Entities.Jour...   \n",
      "\n",
      "                                          fare.$type  fare.totalCost  \\\n",
      "0  Tfl.Api.Presentation.Entities.JourneyPlanner.J...             310   \n",
      "\n",
      "                                          fare.fares  \\\n",
      "0  [{'$type': 'Tfl.Api.Presentation.Entities.Jour...   \n",
      "\n",
      "                                        fare.caveats  \n",
      "0  [{'$type': 'Tfl.Api.Presentation.Entities.Jour...  \n"
     ]
    }
   ],
   "source": [
    "link2 = \"https://api.tfl.gov.uk/Journey/JourneyResults/\" + '940GZZLUKBY' + \"/to/\" + '940GZZLUBST' + '/'\n",
    "response2 = requests.get(link2)\n",
    "JSO2 = response2.json()\n",
    "print(pd.json_normalize(JSO2['journeys'][0]))"
   ]
  },
  {
   "cell_type": "code",
   "execution_count": 264,
   "id": "f51b3504",
   "metadata": {},
   "outputs": [
    {
     "data": {
      "text/html": [
       "<div>\n",
       "<style scoped>\n",
       "    .dataframe tbody tr th:only-of-type {\n",
       "        vertical-align: middle;\n",
       "    }\n",
       "\n",
       "    .dataframe tbody tr th {\n",
       "        vertical-align: top;\n",
       "    }\n",
       "\n",
       "    .dataframe thead th {\n",
       "        text-align: right;\n",
       "    }\n",
       "</style>\n",
       "<table border=\"1\" class=\"dataframe\">\n",
       "  <thead>\n",
       "    <tr style=\"text-align: right;\">\n",
       "      <th></th>\n",
       "      <th>Line</th>\n",
       "      <th>Start</th>\n",
       "      <th>End</th>\n",
       "      <th>Duration</th>\n",
       "    </tr>\n",
       "  </thead>\n",
       "  <tbody>\n",
       "    <tr>\n",
       "      <th>0</th>\n",
       "      <td>District</td>\n",
       "      <td>A</td>\n",
       "      <td>B</td>\n",
       "      <td>2</td>\n",
       "    </tr>\n",
       "  </tbody>\n",
       "</table>\n",
       "</div>"
      ],
      "text/plain": [
       "       Line Start End Duration\n",
       "0  District     A   B        2"
      ]
     },
     "execution_count": 264,
     "metadata": {},
     "output_type": "execute_result"
    }
   ],
   "source": [
    "finaldf = pd.DataFrame.from_dict({\n",
    "    'Line': [],\n",
    "    'Start': [],\n",
    "    'End': [],\n",
    "    'Duration': []\n",
    "})\n",
    "finaldf.loc[len(finaldf)] = ['District','A','B','2']\n",
    "finaldf"
   ]
  },
  {
   "cell_type": "code",
   "execution_count": null,
   "id": "217f18bb",
   "metadata": {},
   "outputs": [],
   "source": []
  }
 ],
 "metadata": {
  "kernelspec": {
   "display_name": "Python 3",
   "language": "python",
   "name": "python3"
  },
  "language_info": {
   "codemirror_mode": {
    "name": "ipython",
    "version": 3
   },
   "file_extension": ".py",
   "mimetype": "text/x-python",
   "name": "python",
   "nbconvert_exporter": "python",
   "pygments_lexer": "ipython3",
   "version": "3.8.8"
  }
 },
 "nbformat": 4,
 "nbformat_minor": 5
}
